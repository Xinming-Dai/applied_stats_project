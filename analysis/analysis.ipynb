{
 "cells": [
  {
   "cell_type": "code",
   "execution_count": null,
   "metadata": {},
   "outputs": [],
   "source": [
    "import os\n",
    "import matplotlib.pyplot as plt\n",
    "import numpy as np\n",
    "import cv2\n",
    "from sklearn.model_selection import train_test_split\n",
    "from utils import get_features"
   ]
  },
  {
   "cell_type": "markdown",
   "metadata": {},
   "source": [
    "## Train Test Split"
   ]
  },
  {
   "cell_type": "code",
   "execution_count": 97,
   "metadata": {},
   "outputs": [],
   "source": [
    "dir = '/Users/daixinming/Projects/AppliedStatisticsII/applied_stats_project/data/sd302/images/challengers/A/roll/img_l2_feature_extractions_png/img_l1_feature_extractions/freq'\n",
    "featuers, label, size = get_features(dir, num_subjects=5)\n",
    "X_train, X_test, y_train, y_test = train_test_split(featuers, label, test_size=0.2, random_state=42)"
   ]
  },
  {
   "cell_type": "markdown",
   "metadata": {},
   "source": [
    "## Logistic Regression"
   ]
  },
  {
   "cell_type": "code",
   "execution_count": null,
   "metadata": {},
   "outputs": [
    {
     "name": "stdout",
     "output_type": "stream",
     "text": [
      "1.0\n",
      "0.15\n"
     ]
    }
   ],
   "source": [
    "from sklearn.linear_model import LogisticRegression\n",
    "clf = LogisticRegression(penalty='l1', solver='saga',random_state=0, max_iter=500).fit(X_train, y_train)\n",
    "print(clf.score(X_train, y_train))\n",
    "print(clf.score(X_test, y_test))"
   ]
  },
  {
   "cell_type": "code",
   "execution_count": 100,
   "metadata": {},
   "outputs": [],
   "source": [
    "featuers, label, image_size = get_features(dir, seed=3, num_subjects=10)"
   ]
  },
  {
   "cell_type": "code",
   "execution_count": 101,
   "metadata": {},
   "outputs": [
    {
     "data": {
      "text/plain": [
       "(70, 52)"
      ]
     },
     "execution_count": 101,
     "metadata": {},
     "output_type": "execute_result"
    }
   ],
   "source": [
    "image_size"
   ]
  },
  {
   "cell_type": "markdown",
   "metadata": {},
   "source": [
    "## SVM"
   ]
  },
  {
   "cell_type": "code",
   "execution_count": 46,
   "metadata": {},
   "outputs": [],
   "source": [
    "from sklearn.model_selection import train_test_split\n",
    "from sklearn import svm\n",
    "from sklearn.multiclass import OneVsRestClassifier"
   ]
  },
  {
   "cell_type": "code",
   "execution_count": 51,
   "metadata": {},
   "outputs": [
    {
     "name": "stdout",
     "output_type": "stream",
     "text": [
      "20-th data set\n",
      "21-th data set\n",
      "22-th data set\n",
      "23-th data set\n",
      "24-th data set\n",
      "25-th data set\n",
      "26-th data set\n",
      "27-th data set\n",
      "28-th data set\n",
      "29-th data set\n",
      "30-th data set\n",
      "31-th data set\n",
      "32-th data set\n",
      "33-th data set\n",
      "34-th data set\n",
      "35-th data set\n",
      "36-th data set\n",
      "37-th data set\n",
      "38-th data set\n",
      "39-th data set\n",
      "0.9297192028985506 0.48916666666666664\n"
     ]
    }
   ],
   "source": [
    "train_scores = []\n",
    "test_scores = []\n",
    "for j in range(20, 40):\n",
    "    print(f\"{j}-th data set\")\n",
    "    featuers, label,_ = get_features(dir, seed=j, num_subjects=3)\n",
    "\n",
    "    for i in range(10):\n",
    "        X_train, X_test, y_train, y_test = train_test_split(featuers, label, test_size=0.2, random_state=i)\n",
    "        svc = svm.SVC()\n",
    "        svc.fit(X_train, y_train)\n",
    "        svc = OneVsRestClassifier(svm.SVC(kernel='rbf')).fit(X_train, y_train)\n",
    "        train_scores.append(svc.score(X_train, y_train)) \n",
    "        test_scores.append(svc.score(X_test, y_test))\n",
    "\n",
    "print(np.average(train_scores), np.average(test_scores))\n"
   ]
  },
  {
   "cell_type": "code",
   "execution_count": 86,
   "metadata": {},
   "outputs": [
    {
     "data": {
      "text/plain": [
       "(3500,)"
      ]
     },
     "execution_count": 86,
     "metadata": {},
     "output_type": "execute_result"
    }
   ],
   "source": [
    "featuers[0].shape"
   ]
  },
  {
   "cell_type": "markdown",
   "metadata": {},
   "source": [
    "## Neural Network"
   ]
  },
  {
   "cell_type": "code",
   "execution_count": null,
   "metadata": {},
   "outputs": [],
   "source": [
    "import torch\n",
    "import torch.nn as nn\n",
    "import torch.nn.functional as F\n",
    "from torch.utils.data import Dataset, DataLoader, random_split\n",
    "import numpy as np\n",
    "\n",
    "# ----- 1. Custom Dataset class -----\n",
    "class FingerprintDataset(Dataset):\n",
    "    def __init__(self, X, y):\n",
    "        self.X = torch.tensor(X, dtype=torch.float32)\n",
    "        self.y = torch.tensor(y, dtype=torch.long)\n",
    "\n",
    "    def __len__(self):\n",
    "        return len(self.y)\n",
    "\n",
    "    def __getitem__(self, idx):\n",
    "        return self.X[idx], self.y[idx]\n",
    "\n",
    "# ----- 2. Simple CNN model -----\n",
    "class FingerprintClassifier(nn.Module):\n",
    "    def __init__(self, num_classes=10):\n",
    "        super(FingerprintClassifier, self).__init__()\n",
    "        self.conv1 = nn.Conv2d(1, 16, kernel_size=3, padding=1)\n",
    "        self.conv2 = nn.Conv2d(16, 32, kernel_size=3, padding=1)\n",
    "        self.pool = nn.MaxPool2d(2, 2)\n",
    "        self.dropout = nn.Dropout(0.25)\n",
    "\n",
    "        self.adaptive_pool = nn.AdaptiveAvgPool2d((4, 4))\n",
    "        self.fc1 = nn.Linear(32 * 4 * 4, 128)\n",
    "        self.fc2 = nn.Linear(128, num_classes)\n",
    "\n",
    "    def forward(self, x):\n",
    "        x = self.pool(F.relu(self.conv1(x)))      # Downsample\n",
    "        x = self.pool(F.relu(self.conv2(x)))      # Downsample\n",
    "        x = self.adaptive_pool(x)                 # Output shape: (B, 32, 4, 4)\n",
    "        x = self.dropout(x)\n",
    "        x = torch.flatten(x, 1)                   # Shape: (B, 512)\n",
    "        x = F.relu(self.fc1(x))\n",
    "        x = self.fc2(x)\n",
    "        return x\n",
    "\n",
    "# ----- 3. Training loop -----\n",
    "def train_model(model, dataloader, optimizer, criterion, device):\n",
    "    model.train()\n",
    "    for inputs, labels in dataloader:\n",
    "        inputs, labels = inputs.to(device), labels.to(device)\n",
    "\n",
    "        optimizer.zero_grad()\n",
    "        outputs = model(inputs)\n",
    "        loss = criterion(outputs, labels)\n",
    "        loss.backward()\n",
    "        optimizer.step()\n",
    "\n",
    "# ----- 4. Evaluation function -----\n",
    "def evaluate_model(model, dataloader, device, get_embeddings=False):\n",
    "    model.eval()\n",
    "    correct, total = 0, 0\n",
    "\n",
    "    embeddings = []\n",
    "\n",
    "    with torch.no_grad():\n",
    "        for inputs, labels in dataloader:\n",
    "            inputs, labels = inputs.to(device), labels.to(device)\n",
    "            outputs = model(inputs)\n",
    "            preds = torch.argmax(outputs, dim=1)\n",
    "            correct += (preds == labels).sum().item()\n",
    "            total += labels.size(0)\n",
    "\n",
    "            if get_embeddings:\n",
    "                embs = model.get_embedding(inputs)  # shape: (B, D)\n",
    "                embeddings.extend(embs.detach().cpu())  # append each embedding tensor to the list\n",
    "\n",
    "    if get_embeddings:\n",
    "        return embeddings, labels  # both are lists of tensors\n",
    "    else:\n",
    "        return correct / total\n",
    "    "
   ]
  },
  {
   "cell_type": "code",
   "execution_count": 8,
   "metadata": {},
   "outputs": [
    {
     "name": "stdout",
     "output_type": "stream",
     "text": [
      "Epoch 1: Val Accuracy = 0.0500\n",
      "Epoch 2: Val Accuracy = 0.0500\n",
      "Epoch 3: Val Accuracy = 0.1000\n",
      "Epoch 4: Val Accuracy = 0.0500\n",
      "Epoch 5: Val Accuracy = 0.0500\n",
      "Epoch 6: Val Accuracy = 0.1000\n",
      "Epoch 7: Val Accuracy = 0.1500\n",
      "Epoch 8: Val Accuracy = 0.1500\n",
      "Epoch 9: Val Accuracy = 0.1500\n",
      "Epoch 10: Val Accuracy = 0.2000\n"
     ]
    }
   ],
   "source": [
    "# Assuming X has shape (n_samples, 1, 70, 52) and y has labels 0–9\n",
    "featuers, label, img_size = get_features(1, flatten=False)\n",
    "X_train, X_test, y_train, y_test = train_test_split(featuers, label, test_size=0.2, random_state=42)\n",
    "\n",
    "dataset = FingerprintDataset(featuers, label)\n",
    "train_size = int(0.8 * len(dataset))\n",
    "train_ds, val_ds = random_split(dataset, [train_size, len(dataset) - train_size])\n",
    "\n",
    "train_loader = DataLoader(train_ds, batch_size=32, shuffle=True)\n",
    "val_loader = DataLoader(val_ds, batch_size=32)\n",
    "\n",
    "device = torch.device('cuda' if torch.cuda.is_available() else 'cpu')\n",
    "model = FingerprintClassifier(num_classes=10).to(device)\n",
    "optimizer = torch.optim.Adam(model.parameters(), lr=1e-3)\n",
    "criterion = nn.CrossEntropyLoss()\n",
    "\n",
    "# Training\n",
    "for epoch in range(10):\n",
    "    train_model(model, train_loader, optimizer, criterion, device)\n",
    "    acc = evaluate_model(model, val_loader, device)\n",
    "    print(f\"Epoch {epoch+1}: Val Accuracy = {acc:.4f}\")\n"
   ]
  },
  {
   "cell_type": "markdown",
   "metadata": {},
   "source": [
    "## GMM"
   ]
  },
  {
   "cell_type": "code",
   "execution_count": null,
   "metadata": {},
   "outputs": [],
   "source": [
    "from sklearn.mixture import GaussianMixture\n",
    "gm = GaussianMixture(n_components=len(set(label)), random_state=0).fit(featuers)"
   ]
  },
  {
   "cell_type": "code",
   "execution_count": null,
   "metadata": {},
   "outputs": [],
   "source": [
    "gmm_labels = gm.predict(featuers)"
   ]
  },
  {
   "cell_type": "code",
   "execution_count": 33,
   "metadata": {},
   "outputs": [
    {
     "name": "stdout",
     "output_type": "stream",
     "text": [
      "Normalized Mutual Information: 0.7063\n"
     ]
    }
   ],
   "source": [
    "from sklearn.metrics import normalized_mutual_info_score\n",
    "nmi = normalized_mutual_info_score(featuers[0].reshape(-1), gmm_labels)\n",
    "print(f\"Normalized Mutual Information: {nmi:.4f}\")"
   ]
  },
  {
   "cell_type": "markdown",
   "metadata": {},
   "source": [
    "## QDA"
   ]
  },
  {
   "cell_type": "code",
   "execution_count": 44,
   "metadata": {},
   "outputs": [
    {
     "name": "stdout",
     "output_type": "stream",
     "text": [
      "0.925\n",
      "0.15\n"
     ]
    },
    {
     "name": "stderr",
     "output_type": "stream",
     "text": [
      "/Users/daixinming/Projects/AppliedStatisticsII/fingerprints/lib/python3.9/site-packages/sklearn/discriminant_analysis.py:1024: LinAlgWarning: The covariance matrix of class 0 is not full rank. Increasing the value of parameter `reg_param` might help reducing the collinearity.\n",
      "  warnings.warn(\n",
      "/Users/daixinming/Projects/AppliedStatisticsII/fingerprints/lib/python3.9/site-packages/sklearn/discriminant_analysis.py:1024: LinAlgWarning: The covariance matrix of class 1 is not full rank. Increasing the value of parameter `reg_param` might help reducing the collinearity.\n",
      "  warnings.warn(\n",
      "/Users/daixinming/Projects/AppliedStatisticsII/fingerprints/lib/python3.9/site-packages/sklearn/discriminant_analysis.py:1024: LinAlgWarning: The covariance matrix of class 2 is not full rank. Increasing the value of parameter `reg_param` might help reducing the collinearity.\n",
      "  warnings.warn(\n",
      "/Users/daixinming/Projects/AppliedStatisticsII/fingerprints/lib/python3.9/site-packages/sklearn/discriminant_analysis.py:1024: LinAlgWarning: The covariance matrix of class 3 is not full rank. Increasing the value of parameter `reg_param` might help reducing the collinearity.\n",
      "  warnings.warn(\n",
      "/Users/daixinming/Projects/AppliedStatisticsII/fingerprints/lib/python3.9/site-packages/sklearn/discriminant_analysis.py:1024: LinAlgWarning: The covariance matrix of class 4 is not full rank. Increasing the value of parameter `reg_param` might help reducing the collinearity.\n",
      "  warnings.warn(\n",
      "/Users/daixinming/Projects/AppliedStatisticsII/fingerprints/lib/python3.9/site-packages/sklearn/discriminant_analysis.py:1024: LinAlgWarning: The covariance matrix of class 5 is not full rank. Increasing the value of parameter `reg_param` might help reducing the collinearity.\n",
      "  warnings.warn(\n",
      "/Users/daixinming/Projects/AppliedStatisticsII/fingerprints/lib/python3.9/site-packages/sklearn/discriminant_analysis.py:1024: LinAlgWarning: The covariance matrix of class 6 is not full rank. Increasing the value of parameter `reg_param` might help reducing the collinearity.\n",
      "  warnings.warn(\n",
      "/Users/daixinming/Projects/AppliedStatisticsII/fingerprints/lib/python3.9/site-packages/sklearn/discriminant_analysis.py:1024: LinAlgWarning: The covariance matrix of class 7 is not full rank. Increasing the value of parameter `reg_param` might help reducing the collinearity.\n",
      "  warnings.warn(\n",
      "/Users/daixinming/Projects/AppliedStatisticsII/fingerprints/lib/python3.9/site-packages/sklearn/discriminant_analysis.py:1024: LinAlgWarning: The covariance matrix of class 8 is not full rank. Increasing the value of parameter `reg_param` might help reducing the collinearity.\n",
      "  warnings.warn(\n",
      "/Users/daixinming/Projects/AppliedStatisticsII/fingerprints/lib/python3.9/site-packages/sklearn/discriminant_analysis.py:1024: LinAlgWarning: The covariance matrix of class 9 is not full rank. Increasing the value of parameter `reg_param` might help reducing the collinearity.\n",
      "  warnings.warn(\n"
     ]
    }
   ],
   "source": [
    "from sklearn.discriminant_analysis import QuadraticDiscriminantAnalysis\n",
    "lda = QuadraticDiscriminantAnalysis(reg_param=0.001)\n",
    "lda.fit(X_train, y_train)\n",
    "print(lda.score(X_train, y_train))\n",
    "print(lda.score(X_test, y_test))"
   ]
  },
  {
   "cell_type": "markdown",
   "metadata": {},
   "source": [
    "## K means"
   ]
  },
  {
   "cell_type": "code",
   "execution_count": 12,
   "metadata": {},
   "outputs": [],
   "source": [
    "from sklearn.cluster import KMeans\n",
    "\n",
    "kmeans = KMeans(n_clusters=10, random_state=0, n_init=\"auto\").fit(featuers)"
   ]
  },
  {
   "cell_type": "code",
   "execution_count": 49,
   "metadata": {},
   "outputs": [
    {
     "name": "stdout",
     "output_type": "stream",
     "text": [
      "Normalized Mutual Information: 0.3085\n"
     ]
    }
   ],
   "source": [
    "from sklearn.metrics import normalized_mutual_info_score\n",
    "\n",
    "nmi = normalized_mutual_info_score(label, kmeans.labels_)\n",
    "print(f\"Normalized Mutual Information: {nmi:.4f}\")"
   ]
  },
  {
   "cell_type": "markdown",
   "metadata": {},
   "source": [
    "## NMF"
   ]
  },
  {
   "cell_type": "code",
   "execution_count": 58,
   "metadata": {},
   "outputs": [
    {
     "name": "stderr",
     "output_type": "stream",
     "text": [
      "/Users/daixinming/Projects/AppliedStatisticsII/fingerprints/lib/python3.9/site-packages/sklearn/decomposition/_nmf.py:1742: ConvergenceWarning: Maximum number of iterations 200 reached. Increase it to improve convergence.\n",
      "  warnings.warn(\n"
     ]
    }
   ],
   "source": [
    "from sklearn.decomposition import NMF\n",
    "model = NMF(n_components=10, init='random', random_state=0)\n",
    "W = model.fit_transform(featuers)\n",
    "H = model.components_"
   ]
  },
  {
   "cell_type": "code",
   "execution_count": 59,
   "metadata": {},
   "outputs": [
    {
     "data": {
      "text/plain": [
       "array([[0., 0., 0., ..., 0., 0., 0.],\n",
       "       [0., 0., 0., ..., 0., 0., 0.],\n",
       "       [0., 0., 0., ..., 0., 0., 0.],\n",
       "       ...,\n",
       "       [0., 0., 0., ..., 0., 0., 0.],\n",
       "       [0., 0., 0., ..., 0., 0., 0.],\n",
       "       [0., 0., 0., ..., 0., 0., 0.]])"
      ]
     },
     "execution_count": 59,
     "metadata": {},
     "output_type": "execute_result"
    }
   ],
   "source": [
    "H"
   ]
  },
  {
   "cell_type": "code",
   "execution_count": 60,
   "metadata": {},
   "outputs": [],
   "source": [
    "from scipy.spatial.distance import cdist\n",
    "def assign_to_closest_basis(X: np.ndarray, H: np.ndarray) -> np.ndarray:\n",
    "    \"\"\"\n",
    "    Assigns each row of X to the index of the closest row in H.\n",
    "\n",
    "    Args:\n",
    "        X: np.ndarray of shape (n_samples, n_features)\n",
    "        H: np.ndarray of shape (n_components, n_features)\n",
    "\n",
    "    Returns:\n",
    "        assignments: np.ndarray of shape (n_samples,), where each entry is the index of the closest row in H\n",
    "    \"\"\"\n",
    "    distances = cdist(X, H, metric='euclidean')  # shape: (n_samples, n_components)\n",
    "    assignments = np.argmin(distances, axis=1)   # index of closest H row for each X row\n",
    "    return np.argmax(1 - cdist(X, H, metric='cosine'), axis=1)"
   ]
  },
  {
   "cell_type": "code",
   "execution_count": 61,
   "metadata": {},
   "outputs": [],
   "source": [
    "assignment = assign_to_closest_basis(featuers, H)"
   ]
  },
  {
   "cell_type": "code",
   "execution_count": 64,
   "metadata": {},
   "outputs": [
    {
     "data": {
      "text/plain": [
       "array([2, 2, 0, 0, 2, 0, 6, 7, 2, 0, 0, 0, 2, 6, 0, 0, 2, 0, 2, 2, 4, 2,\n",
       "       2, 6, 2, 0, 2, 0, 2, 0, 2, 0, 2, 2, 2, 0, 0, 0, 0, 2, 4, 2, 6, 0,\n",
       "       0, 0, 0, 2, 0, 0, 0, 2, 0, 0, 6, 3, 0, 2, 0, 2, 0, 0, 0, 0, 2, 0,\n",
       "       0, 2, 0, 0, 0, 0, 0, 2, 0, 0, 0, 0, 0, 2, 0, 3, 2, 0, 6, 2, 0, 0,\n",
       "       0, 0, 0, 0, 0, 0, 0, 0, 2, 2, 0, 0])"
      ]
     },
     "execution_count": 64,
     "metadata": {},
     "output_type": "execute_result"
    }
   ],
   "source": [
    "assignment"
   ]
  },
  {
   "cell_type": "code",
   "execution_count": 65,
   "metadata": {},
   "outputs": [
    {
     "name": "stdout",
     "output_type": "stream",
     "text": [
      "Normalized Mutual Information: 0.0989\n"
     ]
    }
   ],
   "source": [
    "nmi = normalized_mutual_info_score(label, assignment)\n",
    "print(f\"Normalized Mutual Information: {nmi:.4f}\")"
   ]
  },
  {
   "cell_type": "markdown",
   "metadata": {},
   "source": [
    "# Plots"
   ]
  },
  {
   "cell_type": "code",
   "execution_count": 82,
   "metadata": {},
   "outputs": [],
   "source": [
    "import numpy as np\n",
    "import json\n",
    "\n",
    "def summarize_results(dir:str, result_list: dict):\n",
    "    \"\"\"\n",
    "    Summarizes the average train/test scores for each model across multiple datasets.\n",
    "\n",
    "    Args:\n",
    "        result_list (list): Dictionary mapping dataset names (e.g., 'class_3') to results dicts.\n",
    "\n",
    "    Returns:\n",
    "        summary (dict): Nested dictionary with structure:\n",
    "            {dataset_name: {model_name: (train_avg, test_avg)}}\n",
    "    \"\"\"\n",
    "    summary = {}\n",
    "\n",
    "    for dataset_name in result_list:\n",
    "        location = None\n",
    "\n",
    "        path = os.path.join(dir, dataset_name+'.json')\n",
    "        with open(path, 'r') as f:\n",
    "            results = json.load(f)\n",
    "\n",
    "        dataset_summary = {}\n",
    "        print(f\"\\n=== Dataset: {dataset_name} ===\")\n",
    "        for model_name, scores in results.items():\n",
    "\n",
    "            # if location is None:\n",
    "            location = np.argmax(np.array(scores['test']))\n",
    "\n",
    "            train_avg = scores['train'][location]\n",
    "            test_avg = scores['test'][location]\n",
    "            dataset_summary[model_name] = (train_avg, test_avg)\n",
    "            print(f\"{model_name}: Train = {train_avg:.4f}, Test = {test_avg:.4f}\")\n",
    "        summary[dataset_name] = dataset_summary\n",
    "\n",
    "    return summary"
   ]
  },
  {
   "cell_type": "code",
   "execution_count": 83,
   "metadata": {},
   "outputs": [
    {
     "name": "stdout",
     "output_type": "stream",
     "text": [
      "\n",
      "=== Dataset: class_10 ===\n",
      "SVM: Train = 1.0000, Test = 0.4333\n",
      "LogReg: Train = 1.0000, Test = 0.4667\n",
      "QDA: Train = 0.8714, Test = 0.3667\n",
      "\n",
      "=== Dataset: class_5 ===\n",
      "SVM: Train = 1.0000, Test = 0.7333\n",
      "LogReg: Train = 1.0000, Test = 0.8000\n",
      "QDA: Train = 0.9412, Test = 0.5333\n",
      "\n",
      "=== Dataset: class_3 ===\n",
      "SVM: Train = 1.0000, Test = 1.0000\n",
      "LogReg: Train = 1.0000, Test = 1.0000\n",
      "QDA: Train = 1.0000, Test = 0.7778\n"
     ]
    }
   ],
   "source": [
    "all_results = ['class_10',  'class_5', 'class_3']\n",
    "dir = '/Users/daixinming/Projects/AppliedStatisticsII/applied_stats_project/analysis'\n",
    "summary = summarize_results(dir, all_results)"
   ]
  },
  {
   "cell_type": "code",
   "execution_count": 91,
   "metadata": {},
   "outputs": [],
   "source": [
    "import matplotlib.pyplot as plt\n",
    "\n",
    "def plot_test_accuracy(summary):\n",
    "    \"\"\"\n",
    "    Plot test accuracy vs number of classes for different models.\n",
    "    Each model has a different line style and marker style.\n",
    "    \"\"\"\n",
    "    model_names = list(next(iter(summary.values())).keys())  # get model names\n",
    "    class_numbers = [int(name.split('_')[1]) for name in summary.keys()]  # extract class number\n",
    "    class_numbers.sort()\n",
    "\n",
    "    plt.figure(figsize=(4,4))\n",
    "\n",
    "    # Define different line styles and marker styles\n",
    "    line_styles = ['-', '--', '-.', ':']\n",
    "    markers = ['o', 's', '^', 'D', 'x', '*']\n",
    "\n",
    "    for idx, model in enumerate(model_names):\n",
    "        accuracies = []\n",
    "        for c in sorted(summary.keys(), key=lambda x: int(x.split('_')[1])):\n",
    "            _, test_acc = summary[c][model]\n",
    "            accuracies.append(test_acc)\n",
    "        \n",
    "        plt.plot(\n",
    "            class_numbers,\n",
    "            accuracies,\n",
    "            linestyle=line_styles[idx % len(line_styles)],\n",
    "            marker=markers[idx % len(markers)],\n",
    "            label=model,\n",
    "            markersize=7\n",
    "        )\n",
    "\n",
    "    plt.xlabel('Number of Classes')\n",
    "    plt.ylabel('Test Accuracy')\n",
    "    plt.xticks([3, 5, 10])\n",
    "    plt.title('Test Accuracy vs Number of Classes')\n",
    "    plt.legend()\n",
    "    plt.grid(True)\n",
    "    plt.tight_layout()\n",
    "    plt.show()\n"
   ]
  },
  {
   "cell_type": "code",
   "execution_count": 92,
   "metadata": {},
   "outputs": [
    {
     "data": {
      "image/png": "[encoded data removed]",
      "text/plain": [
       "<Figure size 400x400 with 1 Axes>"
      ]
     },
     "metadata": {},
     "output_type": "display_data"
    }
   ],
   "source": [
    "plot_test_accuracy(summary)"
   ]
  }
 ],
 "metadata": {
  "kernelspec": {
   "display_name": "fingerprints",
   "language": "python",
   "name": "python3"
  },
  "language_info": {
   "codemirror_mode": {
    "name": "ipython",
    "version": 3
   },
   "file_extension": ".py",
   "mimetype": "text/x-python",
   "name": "python",
   "nbconvert_exporter": "python",
   "pygments_lexer": "ipython3",
   "version": "3.9.6"
  }
 },
 "nbformat": 4,
 "nbformat_minor": 2
}
